{
 "cells": [
  {
   "cell_type": "markdown",
   "id": "418964d2",
   "metadata": {},
   "source": [
    "<h1>Reecomendador</h1>\n",
    "\n",
    "Implementamos un recomendador de  repositorios github"
   ]
  },
  {
   "cell_type": "markdown",
   "id": "b85db9a6",
   "metadata": {},
   "source": [
    "Primero hacemos los imports de las librerias necesarias."
   ]
  },
  {
   "cell_type": "code",
   "execution_count": 9,
   "id": "d9b7a692",
   "metadata": {},
   "outputs": [],
   "source": [
    "import pandas as pd\n",
    "import numpy as np\n",
    "from sklearn.metrics import mean_squared_error\n",
    "from sklearn.model_selection import train_test_split\n",
    "from sklearn.neighbors import NearestNeighbors\n",
    "import matplotlib.pyplot as plt\n",
    "import sklearn"
   ]
  },
  {
   "cell_type": "markdown",
   "id": "ddf5a0cb",
   "metadata": {},
   "source": [
    "Definimos las constantes"
   ]
  },
  {
   "cell_type": "code",
   "execution_count": 15,
   "id": "4b68ce8e",
   "metadata": {},
   "outputs": [],
   "source": [
    "CSV_RATINGS_FILE = './data/ratings.csv'\n",
    "CSV_REPOS_FILE = './data/repos.csv'\n",
    "CSV_USERS_FILE = './data/users.csv'\n",
    "\n",
    "N_FIRST_ROWS = 10"
   ]
  },
  {
   "cell_type": "markdown",
   "id": "77d289d3",
   "metadata": {},
   "source": [
    "Cargamos los datos..."
   ]
  },
  {
   "cell_type": "code",
   "execution_count": 11,
   "id": "7e10ad48",
   "metadata": {},
   "outputs": [],
   "source": [
    "df_ratings = pd.read_csv(CSV_RATINGS_FILE)\n",
    "df_repos = pd.read_csv(CSV_REPOS_FILE)\n",
    "df_users = pd.read_csv(CSV_USERS_FILE)"
   ]
  },
  {
   "cell_type": "markdown",
   "id": "66fb529b",
   "metadata": {},
   "source": [
    "Mostramos un resumen de las estadisticas y las N Primeras rows del dataset de ratings."
   ]
  },
  {
   "cell_type": "code",
   "execution_count": null,
   "id": "53c9864f",
   "metadata": {},
   "outputs": [
    {
     "data": {
      "text/html": [
       "<div>\n",
       "<style scoped>\n",
       "    .dataframe tbody tr th:only-of-type {\n",
       "        vertical-align: middle;\n",
       "    }\n",
       "\n",
       "    .dataframe tbody tr th {\n",
       "        vertical-align: top;\n",
       "    }\n",
       "\n",
       "    .dataframe thead th {\n",
       "        text-align: right;\n",
       "    }\n",
       "</style>\n",
       "<table border=\"1\" class=\"dataframe\">\n",
       "  <thead>\n",
       "    <tr style=\"text-align: right;\">\n",
       "      <th></th>\n",
       "      <th>userId</th>\n",
       "      <th>repoId</th>\n",
       "      <th>rating</th>\n",
       "    </tr>\n",
       "  </thead>\n",
       "  <tbody>\n",
       "    <tr>\n",
       "      <th>count</th>\n",
       "      <td>324.000000</td>\n",
       "      <td>324.000000</td>\n",
       "      <td>324.000000</td>\n",
       "    </tr>\n",
       "    <tr>\n",
       "      <th>mean</th>\n",
       "      <td>15.101852</td>\n",
       "      <td>76.543210</td>\n",
       "      <td>2.969136</td>\n",
       "    </tr>\n",
       "    <tr>\n",
       "      <th>std</th>\n",
       "      <td>8.968061</td>\n",
       "      <td>47.434896</td>\n",
       "      <td>1.893194</td>\n",
       "    </tr>\n",
       "    <tr>\n",
       "      <th>min</th>\n",
       "      <td>1.000000</td>\n",
       "      <td>1.000000</td>\n",
       "      <td>1.000000</td>\n",
       "    </tr>\n",
       "    <tr>\n",
       "      <th>25%</th>\n",
       "      <td>7.000000</td>\n",
       "      <td>34.000000</td>\n",
       "      <td>1.000000</td>\n",
       "    </tr>\n",
       "    <tr>\n",
       "      <th>50%</th>\n",
       "      <td>17.000000</td>\n",
       "      <td>78.000000</td>\n",
       "      <td>3.000000</td>\n",
       "    </tr>\n",
       "    <tr>\n",
       "      <th>75%</th>\n",
       "      <td>22.000000</td>\n",
       "      <td>114.000000</td>\n",
       "      <td>4.000000</td>\n",
       "    </tr>\n",
       "    <tr>\n",
       "      <th>max</th>\n",
       "      <td>30.000000</td>\n",
       "      <td>167.000000</td>\n",
       "      <td>8.000000</td>\n",
       "    </tr>\n",
       "  </tbody>\n",
       "</table>\n",
       "</div>"
      ],
      "text/plain": [
       "           userId      repoId      rating\n",
       "count  324.000000  324.000000  324.000000\n",
       "mean    15.101852   76.543210    2.969136\n",
       "std      8.968061   47.434896    1.893194\n",
       "min      1.000000    1.000000    1.000000\n",
       "25%      7.000000   34.000000    1.000000\n",
       "50%     17.000000   78.000000    3.000000\n",
       "75%     22.000000  114.000000    4.000000\n",
       "max     30.000000  167.000000    8.000000"
      ]
     },
     "execution_count": 13,
     "metadata": {},
     "output_type": "execute_result"
    }
   ],
   "source": [
    "df_ratings.describe()"
   ]
  },
  {
   "cell_type": "code",
   "execution_count": 16,
   "id": "3e96771e",
   "metadata": {},
   "outputs": [
    {
     "name": "stdout",
     "output_type": "stream",
     "text": [
      "   userId  repoId  rating\n",
      "0       1       1       2\n",
      "1       1       2       3\n",
      "2       1       3       4\n",
      "3       1       4       5\n",
      "4       1       5       3\n",
      "5       1       6       1\n",
      "6       1       7       5\n",
      "7       1       8       1\n",
      "8       1      80       5\n",
      "9       1      10       4\n"
     ]
    }
   ],
   "source": [
    "print(f\"{df_ratings.head(N_FIRST_ROWS)}\")"
   ]
  },
  {
   "cell_type": "markdown",
   "id": "c0db36a6",
   "metadata": {},
   "source": [
    "Mostramos un resumen de las estadisticas y las N Primeras rows del dataset de repositorios."
   ]
  },
  {
   "cell_type": "code",
   "execution_count": 17,
   "id": "d722f1b5",
   "metadata": {},
   "outputs": [
    {
     "data": {
      "text/html": [
       "<div>\n",
       "<style scoped>\n",
       "    .dataframe tbody tr th:only-of-type {\n",
       "        vertical-align: middle;\n",
       "    }\n",
       "\n",
       "    .dataframe tbody tr th {\n",
       "        vertical-align: top;\n",
       "    }\n",
       "\n",
       "    .dataframe thead th {\n",
       "        text-align: right;\n",
       "    }\n",
       "</style>\n",
       "<table border=\"1\" class=\"dataframe\">\n",
       "  <thead>\n",
       "    <tr style=\"text-align: right;\">\n",
       "      <th></th>\n",
       "      <th>repoId</th>\n",
       "      <th>stars</th>\n",
       "    </tr>\n",
       "  </thead>\n",
       "  <tbody>\n",
       "    <tr>\n",
       "      <th>count</th>\n",
       "      <td>167.000000</td>\n",
       "      <td>117.000000</td>\n",
       "    </tr>\n",
       "    <tr>\n",
       "      <th>mean</th>\n",
       "      <td>83.988024</td>\n",
       "      <td>30383.102564</td>\n",
       "    </tr>\n",
       "    <tr>\n",
       "      <th>std</th>\n",
       "      <td>48.336669</td>\n",
       "      <td>39901.782214</td>\n",
       "    </tr>\n",
       "    <tr>\n",
       "      <th>min</th>\n",
       "      <td>1.000000</td>\n",
       "      <td>48.000000</td>\n",
       "    </tr>\n",
       "    <tr>\n",
       "      <th>25%</th>\n",
       "      <td>42.500000</td>\n",
       "      <td>5053.000000</td>\n",
       "    </tr>\n",
       "    <tr>\n",
       "      <th>50%</th>\n",
       "      <td>84.000000</td>\n",
       "      <td>18775.000000</td>\n",
       "    </tr>\n",
       "    <tr>\n",
       "      <th>75%</th>\n",
       "      <td>125.500000</td>\n",
       "      <td>42000.000000</td>\n",
       "    </tr>\n",
       "    <tr>\n",
       "      <th>max</th>\n",
       "      <td>167.000000</td>\n",
       "      <td>304196.000000</td>\n",
       "    </tr>\n",
       "  </tbody>\n",
       "</table>\n",
       "</div>"
      ],
      "text/plain": [
       "           repoId          stars\n",
       "count  167.000000     117.000000\n",
       "mean    83.988024   30383.102564\n",
       "std     48.336669   39901.782214\n",
       "min      1.000000      48.000000\n",
       "25%     42.500000    5053.000000\n",
       "50%     84.000000   18775.000000\n",
       "75%    125.500000   42000.000000\n",
       "max    167.000000  304196.000000"
      ]
     },
     "execution_count": 17,
     "metadata": {},
     "output_type": "execute_result"
    }
   ],
   "source": [
    "df_repos.describe()"
   ]
  },
  {
   "cell_type": "code",
   "execution_count": 18,
   "id": "6d36304e",
   "metadata": {},
   "outputs": [
    {
     "name": "stdout",
     "output_type": "stream",
     "text": [
      "   repoId                                    title  \\\n",
      "0       1                      airbnb / javascript   \n",
      "1       2        kamranahmedse / developer-roadmap   \n",
      "2       3                       microsoft / vscode   \n",
      "3       4                         torvalds / linux   \n",
      "4       5                    ytdl-org / youtube-dl   \n",
      "5       6          30-seconds / 30-seconds-of-code   \n",
      "6       7                          pallets / flask   \n",
      "7       8                  chrislgarry / Apollo-11   \n",
      "8       9  josephmisiti / awesome-machine-learning   \n",
      "9      10                          django / django   \n",
      "\n",
      "                                          categories    stars  \n",
      "0                                          completar      NaN  \n",
      "1        Roadmap to becoming a web developer in 2019  85800.0  \n",
      "2                                 Visual Studio Code  80855.0  \n",
      "3                           Linux kernel source tree  78761.0  \n",
      "4  Command-line program to download videos from Y...  53909.0  \n",
      "5                                          completar      NaN  \n",
      "6  The Python micro framework for building web ap...  45781.0  \n",
      "7                                          completar      NaN  \n",
      "8  A curated list of awesome Machine Learning fra...  41192.0  \n",
      "9  The Web framework for perfectionists with dead...  43347.0  \n"
     ]
    }
   ],
   "source": [
    "print(f\"{df_repos.head(N_FIRST_ROWS)}\")"
   ]
  },
  {
   "cell_type": "markdown",
   "id": "e01b146a",
   "metadata": {},
   "source": [
    "Mostramos un resumen de las estadisticas  y las N  primeras Rows del dataset users.csv"
   ]
  },
  {
   "cell_type": "code",
   "execution_count": 19,
   "id": "958c78a9",
   "metadata": {},
   "outputs": [
    {
     "data": {
      "text/html": [
       "<div>\n",
       "<style scoped>\n",
       "    .dataframe tbody tr th:only-of-type {\n",
       "        vertical-align: middle;\n",
       "    }\n",
       "\n",
       "    .dataframe tbody tr th {\n",
       "        vertical-align: top;\n",
       "    }\n",
       "\n",
       "    .dataframe thead th {\n",
       "        text-align: right;\n",
       "    }\n",
       "</style>\n",
       "<table border=\"1\" class=\"dataframe\">\n",
       "  <thead>\n",
       "    <tr style=\"text-align: right;\">\n",
       "      <th></th>\n",
       "      <th>userId</th>\n",
       "    </tr>\n",
       "  </thead>\n",
       "  <tbody>\n",
       "    <tr>\n",
       "      <th>count</th>\n",
       "      <td>30.000000</td>\n",
       "    </tr>\n",
       "    <tr>\n",
       "      <th>mean</th>\n",
       "      <td>15.500000</td>\n",
       "    </tr>\n",
       "    <tr>\n",
       "      <th>std</th>\n",
       "      <td>8.803408</td>\n",
       "    </tr>\n",
       "    <tr>\n",
       "      <th>min</th>\n",
       "      <td>1.000000</td>\n",
       "    </tr>\n",
       "    <tr>\n",
       "      <th>25%</th>\n",
       "      <td>8.250000</td>\n",
       "    </tr>\n",
       "    <tr>\n",
       "      <th>50%</th>\n",
       "      <td>15.500000</td>\n",
       "    </tr>\n",
       "    <tr>\n",
       "      <th>75%</th>\n",
       "      <td>22.750000</td>\n",
       "    </tr>\n",
       "    <tr>\n",
       "      <th>max</th>\n",
       "      <td>30.000000</td>\n",
       "    </tr>\n",
       "  </tbody>\n",
       "</table>\n",
       "</div>"
      ],
      "text/plain": [
       "          userId\n",
       "count  30.000000\n",
       "mean   15.500000\n",
       "std     8.803408\n",
       "min     1.000000\n",
       "25%     8.250000\n",
       "50%    15.500000\n",
       "75%    22.750000\n",
       "max    30.000000"
      ]
     },
     "execution_count": 19,
     "metadata": {},
     "output_type": "execute_result"
    }
   ],
   "source": [
    "df_users.describe()"
   ]
  },
  {
   "cell_type": "code",
   "execution_count": 20,
   "id": "d8642c4e",
   "metadata": {},
   "outputs": [
    {
     "name": "stdout",
     "output_type": "stream",
     "text": [
      "   userId      username                   name\n",
      "0       1      iris9112   Isabel Ruiz Buriticá\n",
      "1       2   dianaclarke                  Diana\n",
      "2       3   nateprewitt           Nate Prewitt\n",
      "3       4        oldani        Ordanis Sanchez\n",
      "4       5    waflessnet             waflessnet\n",
      "5       6     luisbalru     Luis Balderas Ruiz\n",
      "6       7       elswork                elswork\n",
      "7       8        l3s777                 l3s777\n",
      "8       9  camiloyate09            Camilo Yate\n",
      "9      10        josmig  José Miguel Pantigoso\n"
     ]
    }
   ],
   "source": [
    "print(f\"{df_users.head(N_FIRST_ROWS)}\")"
   ]
  },
  {
   "cell_type": "markdown",
   "id": "c1563691",
   "metadata": {},
   "source": [
    "Sacamos el número de usuarios y el numeo de ratings."
   ]
  },
  {
   "cell_type": "code",
   "execution_count": 21,
   "id": "b2ae9579",
   "metadata": {},
   "outputs": [
    {
     "name": "stdout",
     "output_type": "stream",
     "text": [
      "Número de usuarios únicos: 30\n",
      "Número de ratings: 167\n"
     ]
    }
   ],
   "source": [
    "n_users =  df_ratings.userId.unique().shape[0]\n",
    "n_ratings = df_ratings.repoId.unique().shape[0]\n",
    "print(f\"Número de usuarios únicos: {n_users}\")\n",
    "print(f\"Número de ratings: {n_ratings}\")"
   ]
  },
  {
   "cell_type": "markdown",
   "id": "61dce16b",
   "metadata": {},
   "source": [
    "Revisamos el histograma de las puntuaciones"
   ]
  },
  {
   "cell_type": "code",
   "execution_count": 24,
   "id": "17028c3e",
   "metadata": {},
   "outputs": [
    {
     "data": {
      "text/plain": [
       "(array([94., 62., 66., 28., 40., 12., 14.,  8.]),\n",
       " array([1.   , 1.875, 2.75 , 3.625, 4.5  , 5.375, 6.25 , 7.125, 8.   ]),\n",
       " <BarContainer object of 8 artists>)"
      ]
     },
     "execution_count": 24,
     "metadata": {},
     "output_type": "execute_result"
    },
    {
     "data": {
      "image/png": "[encoded data removed]",
      "text/plain": [
       "<Figure size 640x480 with 1 Axes>"
      ]
     },
     "metadata": {},
     "output_type": "display_data"
    }
   ],
   "source": [
    "plt.hist(df_ratings.rating, bins = 8)"
   ]
  }
 ],
 "metadata": {
  "kernelspec": {
   "display_name": "venv",
   "language": "python",
   "name": "python3"
  },
  "language_info": {
   "codemirror_mode": {
    "name": "ipython",
    "version": 3
   },
   "file_extension": ".py",
   "mimetype": "text/x-python",
   "name": "python",
   "nbconvert_exporter": "python",
   "pygments_lexer": "ipython3",
   "version": "3.12.3"
  }
 },
 "nbformat": 4,
 "nbformat_minor": 5
}
